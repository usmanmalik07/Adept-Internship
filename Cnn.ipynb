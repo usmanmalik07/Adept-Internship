{
  "nbformat": 4,
  "nbformat_minor": 0,
  "metadata": {
    "colab": {
      "provenance": [],
      "authorship_tag": "ABX9TyP4MqPNX8MFLSFaEJdup65w",
      "include_colab_link": true
    },
    "kernelspec": {
      "name": "python3",
      "display_name": "Python 3"
    },
    "language_info": {
      "name": "python"
    }
  },
  "cells": [
    {
      "cell_type": "markdown",
      "metadata": {
        "id": "view-in-github",
        "colab_type": "text"
      },
      "source": [
        "<a href=\"https://colab.research.google.com/github/usmanmalik07/Adept-Internship/blob/main/Cnn.ipynb\" target=\"_parent\"><img src=\"https://colab.research.google.com/assets/colab-badge.svg\" alt=\"Open In Colab\"/></a>"
      ]
    },
    {
      "cell_type": "code",
      "execution_count": 29,
      "metadata": {
        "id": "QqyAecbPnTrp"
      },
      "outputs": [],
      "source": [
        "import torch\n",
        "import torch.nn as nn\n",
        "import torch.nn.functional as F\n",
        "import torchvision\n",
        "import torchvision.transforms as transforms\n",
        "import matplotlib.pyplot as plt\n",
        "import numpy as np\n",
        "from keras.datasets import cifar10"
      ]
    },
    {
      "cell_type": "code",
      "source": [
        "num_epochs =4\n",
        "batch_size =4\n",
        "learning_rate = 0.001"
      ],
      "metadata": {
        "id": "Q9jkwKoeocbt"
      },
      "execution_count": 30,
      "outputs": []
    },
    {
      "cell_type": "code",
      "source": [
        "device = torch.device('cuda'if torch.cuda.is_available() else 'cpu')"
      ],
      "metadata": {
        "id": "bWTJxTtfqupM"
      },
      "execution_count": 31,
      "outputs": []
    },
    {
      "cell_type": "code",
      "source": [
        "transform = transforms.Compose([transforms.ToTensor(),transforms.Normalize((\n",
        "    0.5,0.5,0.5),(0.5,0.5,0.5)\n",
        ")])"
      ],
      "metadata": {
        "id": "T1mQJVxioi-W"
      },
      "execution_count": 32,
      "outputs": []
    },
    {
      "cell_type": "code",
      "source": [
        "train_dataset = torchvision.datasets.CIFAR10(root='./data', train=True,\n",
        "                                        download=True, transform=transform)\n",
        "\n",
        "test_dataset = torchvision.datasets.CIFAR10(root='./data', train=False,\n",
        "                                       download=True, transform=transform)\n",
        "\n",
        "train_loader = torch.utils.data.DataLoader(train_dataset, batch_size=batch_size,\n",
        "                                          shuffle=True)\n",
        "\n",
        "test_loader = torch.utils.data.DataLoader(test_dataset, batch_size=batch_size,\n",
        "                                         shuffle=False)"
      ],
      "metadata": {
        "colab": {
          "base_uri": "https://localhost:8080/"
        },
        "id": "c8a7-mHJo788",
        "outputId": "0e4c4306-5df2-4f42-cc2b-8b948562f671"
      },
      "execution_count": 33,
      "outputs": [
        {
          "output_type": "stream",
          "name": "stdout",
          "text": [
            "Files already downloaded and verified\n",
            "Files already downloaded and verified\n"
          ]
        }
      ]
    },
    {
      "cell_type": "code",
      "source": [],
      "metadata": {
        "id": "6p5tbfHqpfYV"
      },
      "execution_count": 33,
      "outputs": []
    },
    {
      "cell_type": "code",
      "source": [
        "classes = ('plane','car','bird','cat','deer','frog','horse','ship','truck')"
      ],
      "metadata": {
        "id": "RenATTeFqHe1"
      },
      "execution_count": 34,
      "outputs": []
    },
    {
      "cell_type": "code",
      "source": [
        "class ConvNet(nn.Module):\n",
        "    def __init__(self):\n",
        "        super(ConvNet, self).__init__()\n",
        "        self.conv1 = nn.Conv2d(3, 6, 5)\n",
        "        self.pool = nn.MaxPool2d(2, 2)\n",
        "        self.conv2 = nn.Conv2d(6, 16, 5)\n",
        "        self.fc1 = nn.Linear(16 * 5 * 5, 120)\n",
        "        self.fc2 = nn.Linear(120, 84)\n",
        "        self.fc3 = nn.Linear(84, 10)\n",
        "\n",
        "    def forward(self, x):\n",
        "        x = self.pool(F.relu(self.conv1(x)))\n",
        "        x = self.pool(F.relu(self.conv2(x)))\n",
        "        x = x.view(-1, 16 * 5 * 5)  # Flatten the tensor\n",
        "        x = F.relu(self.fc1(x))\n",
        "        x = F.relu(self.fc2(x))\n",
        "        x = self.fc3(x)\n",
        "        return x\n"
      ],
      "metadata": {
        "id": "RWVjiYCbqXHd"
      },
      "execution_count": 35,
      "outputs": []
    },
    {
      "cell_type": "code",
      "source": [
        "model = ConvNet().to(device)\n",
        "criterion = nn.CrossEntropyLoss()\n",
        "optimizer = torch.optim.SGD(model.parameters(), lr = learning_rate)\n",
        "n_total_steps = len(train_loader)\n",
        "for epoch in range(num_epochs):\n",
        "    for i, (images, labels) in enumerate(train_loader):\n",
        "        # origin shape: [4, 3, 32, 32] = 4, 3, 1024\n",
        "        # input_layer: 3 input channels, 6 output channels, 5 kernel size\n",
        "        images = images.to(device)\n",
        "        labels = labels.to(device)\n",
        "\n",
        "        # Forward pass\n",
        "        outputs = model(images)\n",
        "        loss = criterion(outputs, labels)\n",
        "\n",
        "        # Backward and optimize\n",
        "        optimizer.zero_grad()\n",
        "        loss.backward()\n",
        "        optimizer.step()\n",
        "\n",
        "        if (i+1) % 2000 == 0:\n",
        "            print (f'Epoch [{epoch+1}/{num_epochs}], Step [{i+1}/{n_total_steps}], Loss: {loss.item():.4f}')\n",
        "\n",
        "print('Finished Training')\n",
        "PATH = './cnn.pth'\n",
        "torch.save(model.state_dict(), PATH)\n",
        "\n",
        "with torch.no_grad():\n",
        "    n_correct = 0\n",
        "    n_samples = 0\n",
        "    n_class_correct = [0 for i in range(10)]\n",
        "    n_class_samples = [0 for i in range(10)]\n",
        "    for images, labels in test_loader:\n",
        "        images = images.to(device)\n",
        "        labels = labels.to(device)\n",
        "        outputs = model(images)\n",
        "        # max returns (value ,index)\n",
        "        _, predicted = torch.max(outputs, 1)\n",
        "        n_samples += labels.size(0)\n",
        "        n_correct += (predicted == labels).sum().item()\n",
        "\n",
        "        for i in range(batch_size):\n",
        "            label = labels[i]\n",
        "            pred = predicted[i]\n",
        "            if (label == pred):\n",
        "                n_class_correct[label] += 1\n",
        "            n_class_samples[label] += 1\n",
        "\n",
        "    acc = 100.0 * n_correct / n_samples\n",
        "    print(f'Accuracy of the network: {acc} %')"
      ],
      "metadata": {
        "colab": {
          "base_uri": "https://localhost:8080/"
        },
        "id": "aJqSO9GDrFDY",
        "outputId": "af063d0a-a574-4d5b-a6f9-d87b28ca8364"
      },
      "execution_count": 38,
      "outputs": [
        {
          "output_type": "stream",
          "name": "stdout",
          "text": [
            "Epoch [1/4], Step [2000/12500], Loss: 2.3102\n",
            "Epoch [1/4], Step [4000/12500], Loss: 2.2947\n",
            "Epoch [1/4], Step [6000/12500], Loss: 2.2882\n",
            "Epoch [1/4], Step [8000/12500], Loss: 2.2684\n",
            "Epoch [1/4], Step [10000/12500], Loss: 2.2956\n",
            "Epoch [1/4], Step [12000/12500], Loss: 2.3456\n",
            "Epoch [2/4], Step [2000/12500], Loss: 1.8585\n",
            "Epoch [2/4], Step [4000/12500], Loss: 1.8061\n",
            "Epoch [2/4], Step [6000/12500], Loss: 2.3330\n",
            "Epoch [2/4], Step [8000/12500], Loss: 1.3011\n",
            "Epoch [2/4], Step [10000/12500], Loss: 1.9471\n",
            "Epoch [2/4], Step [12000/12500], Loss: 1.7107\n",
            "Epoch [3/4], Step [2000/12500], Loss: 1.4452\n",
            "Epoch [3/4], Step [4000/12500], Loss: 1.8883\n",
            "Epoch [3/4], Step [6000/12500], Loss: 1.5879\n",
            "Epoch [3/4], Step [8000/12500], Loss: 1.4771\n",
            "Epoch [3/4], Step [10000/12500], Loss: 1.8795\n",
            "Epoch [3/4], Step [12000/12500], Loss: 1.1248\n",
            "Epoch [4/4], Step [2000/12500], Loss: 1.1368\n",
            "Epoch [4/4], Step [4000/12500], Loss: 1.3596\n",
            "Epoch [4/4], Step [6000/12500], Loss: 1.2140\n",
            "Epoch [4/4], Step [8000/12500], Loss: 1.6753\n",
            "Epoch [4/4], Step [10000/12500], Loss: 1.0954\n",
            "Epoch [4/4], Step [12000/12500], Loss: 1.5829\n",
            "Finished Training\n",
            "Accuracy of the network: 44.08 %\n"
          ]
        }
      ]
    }
  ]
}