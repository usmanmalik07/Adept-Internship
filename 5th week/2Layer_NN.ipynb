{
  "nbformat": 4,
  "nbformat_minor": 0,
  "metadata": {
    "colab": {
      "provenance": [],
      "authorship_tag": "ABX9TyObshnN6kanVI6MjvUEy/MG",
      "include_colab_link": true
    },
    "kernelspec": {
      "name": "python3",
      "display_name": "Python 3"
    },
    "language_info": {
      "name": "python"
    }
  },
  "cells": [
    {
      "cell_type": "markdown",
      "metadata": {
        "id": "view-in-github",
        "colab_type": "text"
      },
      "source": [
        "<a href=\"https://colab.research.google.com/github/usmanmalik07/Adept-Internship/blob/main/2Layer_NN.ipynb\" target=\"_parent\"><img src=\"https://colab.research.google.com/assets/colab-badge.svg\" alt=\"Open In Colab\"/></a>"
      ]
    },
    {
      "cell_type": "code",
      "source": [
        "import torch\n",
        "import torch.nn as nn\n",
        "import torch.nn.functional as F\n",
        "import torch.optim as optim\n",
        "from sklearn.datasets import load_iris\n",
        "from sklearn.model_selection import train_test_split\n",
        "from sklearn.preprocessing import StandardScaler\n",
        "from torch.utils.data import TensorDataset, DataLoader\n",
        "\n",
        "# Load the Iris dataset\n",
        "iris = load_iris()\n",
        "data = iris.data\n",
        "targets = iris.target\n",
        "\n",
        "# Standardize the data\n",
        "scaler = StandardScaler()\n",
        "data = scaler.fit_transform(data)\n",
        "\n",
        "# Split the data into training and test sets\n",
        "train_data, test_data, train_targets, test_targets = train_test_split(data, targets, test_size=0.2, random_state=42)\n",
        "\n",
        "# Convert data to PyTorch tensors\n",
        "train_data = torch.tensor(train_data, dtype=torch.float32)\n",
        "train_targets = torch.tensor(train_targets, dtype=torch.long)\n",
        "test_data = torch.tensor(test_data, dtype=torch.float32)\n",
        "test_targets = torch.tensor(test_targets, dtype=torch.long)\n",
        "\n",
        "# Create DataLoader for training and test sets\n",
        "batch_size = 16\n",
        "train_dataset = TensorDataset(train_data, train_targets)\n",
        "test_dataset = TensorDataset(test_data, test_targets)\n",
        "\n",
        "train_loader = DataLoader(dataset=train_dataset, batch_size=batch_size, shuffle=True)\n",
        "test_loader = DataLoader(dataset=test_dataset, batch_size=batch_size, shuffle=False)\n"
      ],
      "metadata": {
        "id": "kYyNqqYBTXlc"
      },
      "execution_count": 17,
      "outputs": []
    },
    {
      "cell_type": "code",
      "source": [],
      "metadata": {
        "id": "ENB4UObcTZ2D"
      },
      "execution_count": null,
      "outputs": []
    },
    {
      "cell_type": "code",
      "source": [
        "class TwoLayerNet(nn.Module):\n",
        "    def __init__(self, input_size, hidden_size, output_size):\n",
        "        super(TwoLayerNet, self).__init__()\n",
        "        self.fc1 = nn.Linear(input_size, hidden_size)  # First fully connected layer\n",
        "        self.fc2 = nn.Linear(hidden_size, output_size)  # Second fully connected layer\n",
        "\n",
        "    def forward(self, x):\n",
        "        x = F.relu(self.fc1(x))  # Apply ReLU activation to the output of the first layer\n",
        "        x = self.fc2(x)  # The output layer\n",
        "        return x\n"
      ],
      "metadata": {
        "id": "oxFm7SWLTcei"
      },
      "execution_count": 18,
      "outputs": []
    },
    {
      "cell_type": "code",
      "source": [
        "# Hyperparameters\n",
        "input_size = 4  # Number of features in the Iris dataset\n",
        "hidden_size = 10\n",
        "output_size = 3  # Number of classes in the Iris dataset\n",
        "learning_rate = 0.001\n",
        "num_epochs = 100\n",
        "\n",
        "# Instantiate the model, loss function, and optimizer\n",
        "model = TwoLayerNet(input_size, hidden_size, output_size)\n",
        "criterion = nn.CrossEntropyLoss()  # Cross-entropy loss for classification\n",
        "optimizer = optim.Adam(model.parameters(), lr=learning_rate)\n"
      ],
      "metadata": {
        "id": "12FB5DzJTeOA"
      },
      "execution_count": 19,
      "outputs": []
    },
    {
      "cell_type": "code",
      "source": [
        "for epoch in range(num_epochs):\n",
        "    for i, (data, targets) in enumerate(train_loader):\n",
        "        # Forward pass\n",
        "        outputs = model(data)\n",
        "        loss = criterion(outputs, targets)\n",
        "\n",
        "        # Backward pass and optimization\n",
        "        optimizer.zero_grad()\n",
        "        loss.backward()\n",
        "        optimizer.step()\n",
        "\n",
        "    if (epoch+1) % 10 == 0:\n",
        "        print(f'Epoch [{epoch+1}/{num_epochs}], Loss: {loss.item():.4f}')\n"
      ],
      "metadata": {
        "colab": {
          "base_uri": "https://localhost:8080/"
        },
        "id": "0Xzh-u7cThVL",
        "outputId": "a8181430-90c2-4594-c56e-51e8089932ed"
      },
      "execution_count": 20,
      "outputs": [
        {
          "output_type": "stream",
          "name": "stdout",
          "text": [
            "Epoch [10/100], Loss: 0.8727\n",
            "Epoch [20/100], Loss: 0.6748\n",
            "Epoch [30/100], Loss: 0.6187\n",
            "Epoch [40/100], Loss: 0.1779\n",
            "Epoch [50/100], Loss: 0.1613\n",
            "Epoch [60/100], Loss: 0.2073\n",
            "Epoch [70/100], Loss: 0.1617\n",
            "Epoch [80/100], Loss: 0.2784\n",
            "Epoch [90/100], Loss: 0.1639\n",
            "Epoch [100/100], Loss: 0.2015\n"
          ]
        }
      ]
    },
    {
      "cell_type": "code",
      "source": [
        "model.eval()  # Set the model to evaluation mode\n",
        "with torch.no_grad():\n",
        "    correct = 0\n",
        "    total = 0\n",
        "    for data, targets in test_loader:\n",
        "        outputs = model(data)\n",
        "        _, predicted = torch.max(outputs.data, 1)\n",
        "        total += targets.size(0)\n",
        "        correct += (predicted == targets).sum().item()\n",
        "\n",
        "    print(f'Accuracy of the model on the test set: {100 * correct / total:.2f}%')\n"
      ],
      "metadata": {
        "colab": {
          "base_uri": "https://localhost:8080/"
        },
        "id": "gFZZlUR9Tkgj",
        "outputId": "4be65bf8-addf-4a5c-cde0-9e5e33b4ee41"
      },
      "execution_count": 21,
      "outputs": [
        {
          "output_type": "stream",
          "name": "stdout",
          "text": [
            "Accuracy of the model on the test set: 100.00%\n"
          ]
        }
      ]
    },
    {
      "cell_type": "code",
      "source": [
        "# Making predictions on new data\n",
        "new_data = torch.tensor([[5.1, 3.5, 1.4, 0.2], [6.7, 3.1, 4.7, 1.5]], dtype=torch.float32)  # Example new data points\n",
        "new_data = scaler.transform(new_data)  # Apply the same scaling\n",
        "new_data = torch.tensor(new_data, dtype=torch.float32)\n",
        "\n",
        "model.eval()\n",
        "with torch.no_grad():\n",
        "    outputs = model(new_data)\n",
        "    _, predicted = torch.max(outputs, 1)\n",
        "    print(f'Predicted classes for the new data points: {predicted.numpy()}')"
      ],
      "metadata": {
        "colab": {
          "base_uri": "https://localhost:8080/"
        },
        "id": "QDtOmVBIT5in",
        "outputId": "956b50a8-ca9b-4c3c-c5e7-1e41bfffb430"
      },
      "execution_count": 22,
      "outputs": [
        {
          "output_type": "stream",
          "name": "stdout",
          "text": [
            "Predicted classes for the new data points: [0 1]\n"
          ]
        }
      ]
    }
  ]
}