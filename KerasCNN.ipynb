{
  "nbformat": 4,
  "nbformat_minor": 0,
  "metadata": {
    "colab": {
      "provenance": [],
      "authorship_tag": "ABX9TyP4aoDAmrsDbf6ipb8AEXSR",
      "include_colab_link": true
    },
    "kernelspec": {
      "name": "python3",
      "display_name": "Python 3"
    },
    "language_info": {
      "name": "python"
    }
  },
  "cells": [
    {
      "cell_type": "markdown",
      "metadata": {
        "id": "view-in-github",
        "colab_type": "text"
      },
      "source": [
        "<a href=\"https://colab.research.google.com/github/usmanmalik07/Adept-Internship/blob/main/Untitled1.ipynb\" target=\"_parent\"><img src=\"https://colab.research.google.com/assets/colab-badge.svg\" alt=\"Open In Colab\"/></a>"
      ]
    },
    {
      "cell_type": "code",
      "execution_count": 1,
      "metadata": {
        "id": "btg25-kPu3e3"
      },
      "outputs": [],
      "source": [
        "import numpy as np\n",
        "import pandas as pd\n",
        "import matplotlib.pyplot as plt\n",
        "from sklearn.model_selection import train_test_split\n",
        "\n",
        "from keras.preprocessing.image import ImageDataGenerator\n",
        "from keras.utils import to_categorical\n",
        "from keras.models import Sequential, load_model\n",
        "from keras.layers import Dense, Dropout, Flatten\n",
        "from keras.layers import Conv2D, MaxPooling2D, BatchNormalization\n",
        "from keras.optimizers import Adam\n",
        "from keras.callbacks import LearningRateScheduler\n",
        "from keras.callbacks import EarlyStopping"
      ]
    },
    {
      "cell_type": "code",
      "source": [],
      "metadata": {
        "id": "JGhfesThq2WN"
      },
      "execution_count": 1,
      "outputs": []
    },
    {
      "cell_type": "code",
      "source": [
        "#loading data\n",
        "train = pd.read_csv('/content/train.csv')\n",
        "test = pd.read_csv('/content/train.csv')"
      ],
      "metadata": {
        "id": "rMtUDVPzvbeC"
      },
      "execution_count": 2,
      "outputs": []
    },
    {
      "cell_type": "code",
      "source": [
        "# X is the pixels and Y is the image labels\n",
        "X = train.iloc[:,1:]\n",
        "Y = train.iloc[:,0]\n",
        "#splitting dataframe using train_test_split\n",
        "x_train , x_test , y_train , y_test = train_test_split(X, Y , test_size=0.1, random_state=42)"
      ],
      "metadata": {
        "id": "cAfH1Jjzvp3_"
      },
      "execution_count": 3,
      "outputs": []
    },
    {
      "cell_type": "code",
      "source": [
        "#first param in reshape is number of examples. We can pass -1 here as we want numpy to figure that out by itself\n",
        "\n",
        "#reshape(examples, height, width, channels)\n",
        "x_train = x_train.values.reshape(-1, 28, 28, 1)\n",
        "x_test = x_test.values.reshape(-1, 28, 28, 1)"
      ],
      "metadata": {
        "id": "LFe6tGc0wISh"
      },
      "execution_count": 4,
      "outputs": []
    },
    {
      "cell_type": "code",
      "source": [
        "datagen = ImageDataGenerator(\n",
        "            featurewise_center=False,  # set input mean to 0 over the dataset\n",
        "            samplewise_center=False,  # set each sample mean to 0\n",
        "            featurewise_std_normalization=False,  # divide inputs by std of the dataset\n",
        "            samplewise_std_normalization=False,  # divide each input by its std\n",
        "            zca_whitening=False,  # apply ZCA whitening\n",
        "            rotation_range=10,  # randomly rotate images in the range (degrees, 0 to 180)\n",
        "            zoom_range = 0.1, # Randomly zoom image\n",
        "            width_shift_range=0.1,  # randomly shift images horizontally (fraction of total width)\n",
        "            height_shift_range=0.1,  # randomly shift images vertically (fraction of total height)\n",
        "            horizontal_flip=False,  # randomly flip images\n",
        "            vertical_flip=False)  # randomly flip images"
      ],
      "metadata": {
        "id": "7N7UCjxhwQJb"
      },
      "execution_count": 5,
      "outputs": []
    },
    {
      "cell_type": "code",
      "source": [
        "#convert values to float as result will be a float. If not done vals are set to zero\n",
        "\n",
        "x_train = x_train.astype(\"float32\")/255\n",
        "x_test = x_test.astype(\"float32\")/255\n",
        "\n",
        "\n",
        "#fitting the ImageDataGenerator\n",
        "datagen.fit(x_train)"
      ],
      "metadata": {
        "id": "rMzU4m3rwVSh"
      },
      "execution_count": 6,
      "outputs": []
    },
    {
      "cell_type": "code",
      "source": [
        "#notice num_classes is set to 10 as we have 10 different labels\n",
        "y_train = to_categorical(y_train, num_classes=10)\n",
        "y_test = to_categorical(y_test, num_classes=10)"
      ],
      "metadata": {
        "id": "a4ZRoJmBwXrt"
      },
      "execution_count": 7,
      "outputs": []
    },
    {
      "cell_type": "code",
      "source": [
        "#Conv2d data_format parameter we use 'channel_last' for imgs\n",
        "\n",
        "model = Sequential()\n",
        "\n",
        "model.add(Conv2D(filters=32, kernel_size=(3, 3), activation='relu', strides=1, padding='same', data_format='channels_last',\n",
        "                 input_shape=(28,28,1)))\n",
        "model.add(BatchNormalization())\n",
        "model.add(Conv2D(filters=32, kernel_size=(3, 3), activation='relu', strides=1, padding='same', data_format='channels_last'))\n",
        "model.add(BatchNormalization())\n",
        "model.add(MaxPooling2D(pool_size=(2, 2), strides=2, padding='valid' ))\n",
        "model.add(Dropout(0.25))\n",
        "\n",
        "model.add(Conv2D(filters=64, kernel_size=(3, 3), activation='relu', strides=1, padding='same', data_format='channels_last'))\n",
        "model.add(BatchNormalization())\n",
        "model.add(Conv2D(filters=64, kernel_size=(3, 3), strides=1, padding='same', activation='relu', data_format='channels_last'))\n",
        "model.add(BatchNormalization())\n",
        "model.add(MaxPooling2D(pool_size=(2, 2), padding='valid', strides=2))\n",
        "model.add(Dropout(0.25))\n",
        "\n",
        "model.add(Flatten())\n",
        "model.add(Dense(512, activation='relu'))\n",
        "model.add(BatchNormalization())\n",
        "model.add(Dropout(0.25))\n",
        "model.add(Dense(1024, activation='relu'))\n",
        "model.add(BatchNormalization())\n",
        "model.add(Dropout(0.5))\n",
        "model.add(Dense(10, activation='softmax'))"
      ],
      "metadata": {
        "id": "ieEWet2Fwd5_"
      },
      "execution_count": 8,
      "outputs": []
    },
    {
      "cell_type": "code",
      "source": [],
      "metadata": {
        "id": "8qowFC8Dwh3J"
      },
      "execution_count": 8,
      "outputs": []
    },
    {
      "cell_type": "code",
      "source": [
        "\n",
        "#Optimizer\n",
        "optimizer = Adam(lr=0.001, beta_1=0.9, beta_2=0.999 )\n",
        "\n",
        "#Compiling the model\n",
        "model.compile(optimizer=optimizer, loss=\"categorical_crossentropy\", metrics=[\"accuracy\"])"
      ],
      "metadata": {
        "colab": {
          "base_uri": "https://localhost:8080/"
        },
        "id": "a0QkEM2Uwh4w",
        "outputId": "e0fcb832-bb21-4541-926b-b2367aef7a22"
      },
      "execution_count": 9,
      "outputs": [
        {
          "output_type": "stream",
          "name": "stderr",
          "text": [
            "WARNING:absl:`lr` is deprecated in Keras optimizer, please use `learning_rate` or use the legacy optimizer, e.g.,tf.keras.optimizers.legacy.Adam.\n"
          ]
        }
      ]
    },
    {
      "cell_type": "code",
      "source": [
        "#Define LearningRateScheduler\n",
        "reduce_lr = LearningRateScheduler(lambda x: 1e-3 * 0.9 ** x)"
      ],
      "metadata": {
        "id": "aou2FdCbwkjV"
      },
      "execution_count": 10,
      "outputs": []
    },
    {
      "cell_type": "code",
      "source": [
        "#defining these prior to model to increase readability and debugging\n",
        "batch_size = 64\n",
        "epochs = 50\n",
        "\n",
        "# Fit the Model\n",
        "history = model.fit_generator(datagen.flow(x_train, y_train, batch_size = batch_size), epochs = epochs,\n",
        "                              validation_data = (x_test, y_test), verbose=1,\n",
        "                              steps_per_epoch=x_train.shape[0] // batch_size,\n",
        "                              callbacks = [reduce_lr]) #left out early_stopping parameter as it gets better accuracy\n"
      ],
      "metadata": {
        "colab": {
          "base_uri": "https://localhost:8080/"
        },
        "id": "d8mMvkTCwp6S",
        "outputId": "2a5697fd-4710-4d7f-88b8-5e9409c1515d"
      },
      "execution_count": 11,
      "outputs": [
        {
          "output_type": "stream",
          "name": "stderr",
          "text": [
            "<ipython-input-11-04bbb6cf3557>:6: UserWarning: `Model.fit_generator` is deprecated and will be removed in a future version. Please use `Model.fit`, which supports generators.\n",
            "  history = model.fit_generator(datagen.flow(x_train, y_train, batch_size = batch_size), epochs = epochs,\n"
          ]
        },
        {
          "output_type": "stream",
          "name": "stdout",
          "text": [
            "Epoch 1/50\n",
            "590/590 [==============================] - 195s 323ms/step - loss: 0.3697 - accuracy: 0.8904 - val_loss: 0.0981 - val_accuracy: 0.9717 - lr: 0.0010\n",
            "Epoch 2/50\n",
            "590/590 [==============================] - 195s 330ms/step - loss: 0.1342 - accuracy: 0.9604 - val_loss: 0.0430 - val_accuracy: 0.9867 - lr: 9.0000e-04\n",
            "Epoch 3/50\n",
            "590/590 [==============================] - 197s 334ms/step - loss: 0.0961 - accuracy: 0.9707 - val_loss: 0.0435 - val_accuracy: 0.9867 - lr: 8.1000e-04\n",
            "Epoch 4/50\n",
            "590/590 [==============================] - 189s 320ms/step - loss: 0.0803 - accuracy: 0.9753 - val_loss: 0.0555 - val_accuracy: 0.9838 - lr: 7.2900e-04\n",
            "Epoch 5/50\n",
            "590/590 [==============================] - 183s 311ms/step - loss: 0.0709 - accuracy: 0.9780 - val_loss: 0.0348 - val_accuracy: 0.9888 - lr: 6.5610e-04\n",
            "Epoch 6/50\n",
            "590/590 [==============================] - 184s 311ms/step - loss: 0.0565 - accuracy: 0.9832 - val_loss: 0.0422 - val_accuracy: 0.9871 - lr: 5.9049e-04\n",
            "Epoch 7/50\n",
            "590/590 [==============================] - 188s 319ms/step - loss: 0.0528 - accuracy: 0.9836 - val_loss: 0.0310 - val_accuracy: 0.9910 - lr: 5.3144e-04\n",
            "Epoch 8/50\n",
            "590/590 [==============================] - 183s 311ms/step - loss: 0.0523 - accuracy: 0.9834 - val_loss: 0.0299 - val_accuracy: 0.9917 - lr: 4.7830e-04\n",
            "Epoch 9/50\n",
            "590/590 [==============================] - 184s 311ms/step - loss: 0.0488 - accuracy: 0.9842 - val_loss: 0.0312 - val_accuracy: 0.9914 - lr: 4.3047e-04\n",
            "Epoch 10/50\n",
            "590/590 [==============================] - 198s 336ms/step - loss: 0.0437 - accuracy: 0.9862 - val_loss: 0.0301 - val_accuracy: 0.9910 - lr: 3.8742e-04\n",
            "Epoch 11/50\n",
            "590/590 [==============================] - 186s 315ms/step - loss: 0.0387 - accuracy: 0.9883 - val_loss: 0.0276 - val_accuracy: 0.9917 - lr: 3.4868e-04\n",
            "Epoch 12/50\n",
            "590/590 [==============================] - 186s 316ms/step - loss: 0.0344 - accuracy: 0.9891 - val_loss: 0.0217 - val_accuracy: 0.9940 - lr: 3.1381e-04\n",
            "Epoch 13/50\n",
            "590/590 [==============================] - 185s 313ms/step - loss: 0.0345 - accuracy: 0.9894 - val_loss: 0.0224 - val_accuracy: 0.9938 - lr: 2.8243e-04\n",
            "Epoch 14/50\n",
            "590/590 [==============================] - 182s 309ms/step - loss: 0.0310 - accuracy: 0.9903 - val_loss: 0.0199 - val_accuracy: 0.9933 - lr: 2.5419e-04\n",
            "Epoch 15/50\n",
            "590/590 [==============================] - 186s 315ms/step - loss: 0.0300 - accuracy: 0.9908 - val_loss: 0.0182 - val_accuracy: 0.9936 - lr: 2.2877e-04\n",
            "Epoch 16/50\n",
            "590/590 [==============================] - 185s 314ms/step - loss: 0.0292 - accuracy: 0.9909 - val_loss: 0.0209 - val_accuracy: 0.9933 - lr: 2.0589e-04\n",
            "Epoch 17/50\n",
            "590/590 [==============================] - 186s 314ms/step - loss: 0.0268 - accuracy: 0.9916 - val_loss: 0.0191 - val_accuracy: 0.9943 - lr: 1.8530e-04\n",
            "Epoch 18/50\n",
            "590/590 [==============================] - 184s 312ms/step - loss: 0.0245 - accuracy: 0.9920 - val_loss: 0.0177 - val_accuracy: 0.9945 - lr: 1.6677e-04\n",
            "Epoch 19/50\n",
            "590/590 [==============================] - 184s 311ms/step - loss: 0.0208 - accuracy: 0.9931 - val_loss: 0.0159 - val_accuracy: 0.9945 - lr: 1.5009e-04\n",
            "Epoch 20/50\n",
            "590/590 [==============================] - 184s 312ms/step - loss: 0.0222 - accuracy: 0.9931 - val_loss: 0.0150 - val_accuracy: 0.9950 - lr: 1.3509e-04\n",
            "Epoch 21/50\n",
            "590/590 [==============================] - 183s 310ms/step - loss: 0.0199 - accuracy: 0.9936 - val_loss: 0.0161 - val_accuracy: 0.9938 - lr: 1.2158e-04\n",
            "Epoch 22/50\n",
            "590/590 [==============================] - 183s 311ms/step - loss: 0.0217 - accuracy: 0.9927 - val_loss: 0.0164 - val_accuracy: 0.9938 - lr: 1.0942e-04\n",
            "Epoch 23/50\n",
            "590/590 [==============================] - 185s 314ms/step - loss: 0.0210 - accuracy: 0.9937 - val_loss: 0.0177 - val_accuracy: 0.9945 - lr: 9.8477e-05\n",
            "Epoch 24/50\n",
            "590/590 [==============================] - 184s 312ms/step - loss: 0.0192 - accuracy: 0.9939 - val_loss: 0.0166 - val_accuracy: 0.9938 - lr: 8.8629e-05\n",
            "Epoch 25/50\n",
            "590/590 [==============================] - 185s 313ms/step - loss: 0.0192 - accuracy: 0.9937 - val_loss: 0.0170 - val_accuracy: 0.9945 - lr: 7.9766e-05\n",
            "Epoch 26/50\n",
            "590/590 [==============================] - 184s 312ms/step - loss: 0.0193 - accuracy: 0.9937 - val_loss: 0.0175 - val_accuracy: 0.9940 - lr: 7.1790e-05\n",
            "Epoch 27/50\n",
            "590/590 [==============================] - 183s 311ms/step - loss: 0.0180 - accuracy: 0.9941 - val_loss: 0.0152 - val_accuracy: 0.9955 - lr: 6.4611e-05\n",
            "Epoch 28/50\n",
            "590/590 [==============================] - 184s 312ms/step - loss: 0.0165 - accuracy: 0.9952 - val_loss: 0.0160 - val_accuracy: 0.9948 - lr: 5.8150e-05\n",
            "Epoch 29/50\n",
            "590/590 [==============================] - 183s 311ms/step - loss: 0.0162 - accuracy: 0.9949 - val_loss: 0.0148 - val_accuracy: 0.9955 - lr: 5.2335e-05\n",
            "Epoch 30/50\n",
            "590/590 [==============================] - 183s 309ms/step - loss: 0.0161 - accuracy: 0.9952 - val_loss: 0.0163 - val_accuracy: 0.9943 - lr: 4.7101e-05\n",
            "Epoch 31/50\n",
            "590/590 [==============================] - 184s 312ms/step - loss: 0.0155 - accuracy: 0.9948 - val_loss: 0.0154 - val_accuracy: 0.9950 - lr: 4.2391e-05\n",
            "Epoch 32/50\n",
            "590/590 [==============================] - 189s 321ms/step - loss: 0.0161 - accuracy: 0.9948 - val_loss: 0.0153 - val_accuracy: 0.9945 - lr: 3.8152e-05\n",
            "Epoch 33/50\n",
            "590/590 [==============================] - 189s 321ms/step - loss: 0.0153 - accuracy: 0.9950 - val_loss: 0.0146 - val_accuracy: 0.9950 - lr: 3.4337e-05\n",
            "Epoch 34/50\n",
            "590/590 [==============================] - 184s 311ms/step - loss: 0.0160 - accuracy: 0.9948 - val_loss: 0.0152 - val_accuracy: 0.9948 - lr: 3.0903e-05\n",
            "Epoch 35/50\n",
            "590/590 [==============================] - 182s 309ms/step - loss: 0.0150 - accuracy: 0.9952 - val_loss: 0.0149 - val_accuracy: 0.9950 - lr: 2.7813e-05\n",
            "Epoch 36/50\n",
            "590/590 [==============================] - 182s 309ms/step - loss: 0.0153 - accuracy: 0.9952 - val_loss: 0.0151 - val_accuracy: 0.9955 - lr: 2.5032e-05\n",
            "Epoch 37/50\n",
            "590/590 [==============================] - 183s 311ms/step - loss: 0.0143 - accuracy: 0.9955 - val_loss: 0.0156 - val_accuracy: 0.9952 - lr: 2.2528e-05\n",
            "Epoch 38/50\n",
            "590/590 [==============================] - 182s 309ms/step - loss: 0.0150 - accuracy: 0.9950 - val_loss: 0.0156 - val_accuracy: 0.9950 - lr: 2.0276e-05\n",
            "Epoch 39/50\n",
            "590/590 [==============================] - 183s 310ms/step - loss: 0.0148 - accuracy: 0.9954 - val_loss: 0.0155 - val_accuracy: 0.9955 - lr: 1.8248e-05\n",
            "Epoch 40/50\n",
            "590/590 [==============================] - 184s 311ms/step - loss: 0.0139 - accuracy: 0.9956 - val_loss: 0.0165 - val_accuracy: 0.9950 - lr: 1.6423e-05\n",
            "Epoch 41/50\n",
            "590/590 [==============================] - 182s 309ms/step - loss: 0.0140 - accuracy: 0.9958 - val_loss: 0.0153 - val_accuracy: 0.9952 - lr: 1.4781e-05\n",
            "Epoch 42/50\n",
            "590/590 [==============================] - 183s 309ms/step - loss: 0.0138 - accuracy: 0.9954 - val_loss: 0.0154 - val_accuracy: 0.9950 - lr: 1.3303e-05\n",
            "Epoch 43/50\n",
            "590/590 [==============================] - 188s 319ms/step - loss: 0.0134 - accuracy: 0.9959 - val_loss: 0.0155 - val_accuracy: 0.9950 - lr: 1.1973e-05\n",
            "Epoch 44/50\n",
            "590/590 [==============================] - 182s 308ms/step - loss: 0.0148 - accuracy: 0.9952 - val_loss: 0.0153 - val_accuracy: 0.9948 - lr: 1.0775e-05\n",
            "Epoch 45/50\n",
            "590/590 [==============================] - 183s 311ms/step - loss: 0.0131 - accuracy: 0.9957 - val_loss: 0.0153 - val_accuracy: 0.9948 - lr: 9.6977e-06\n",
            "Epoch 46/50\n",
            "590/590 [==============================] - 182s 308ms/step - loss: 0.0129 - accuracy: 0.9958 - val_loss: 0.0147 - val_accuracy: 0.9950 - lr: 8.7280e-06\n",
            "Epoch 47/50\n",
            "590/590 [==============================] - 181s 307ms/step - loss: 0.0128 - accuracy: 0.9958 - val_loss: 0.0149 - val_accuracy: 0.9950 - lr: 7.8552e-06\n",
            "Epoch 48/50\n",
            "590/590 [==============================] - 185s 313ms/step - loss: 0.0123 - accuracy: 0.9958 - val_loss: 0.0149 - val_accuracy: 0.9955 - lr: 7.0697e-06\n",
            "Epoch 49/50\n",
            "590/590 [==============================] - 183s 310ms/step - loss: 0.0121 - accuracy: 0.9959 - val_loss: 0.0148 - val_accuracy: 0.9950 - lr: 6.3627e-06\n",
            "Epoch 50/50\n",
            "590/590 [==============================] - 184s 312ms/step - loss: 0.0119 - accuracy: 0.9959 - val_loss: 0.0150 - val_accuracy: 0.9950 - lr: 5.7264e-06\n"
          ]
        }
      ]
    },
    {
      "cell_type": "code",
      "source": [
        "plt.figure(figsize=(13, 5))\n",
        "plt.plot(history.history['accuracy'])\n",
        "plt.plot(history.history['val_accuracy'])\n",
        "plt.title('Model Accuracy')\n",
        "plt.xlabel('Epochs')\n",
        "plt.ylabel('Accuracy')\n",
        "plt.legend(['Train','Test'])\n",
        "plt.grid()\n",
        "plt.show()"
      ],
      "metadata": {
        "colab": {
          "base_uri": "https://localhost:8080/",
          "height": 487
        },
        "id": "5IuVxWvP9F7T",
        "outputId": "4df6f6b6-9e49-4565-ee72-88f1b9b408d9"
      },
      "execution_count": 12,
      "outputs": [
        {
          "output_type": "display_data",
          "data": {
            "text/plain": [
              "<Figure size 1300x500 with 1 Axes>"
            ],
            "image/png": "[encoded data removed]"
          },
          "metadata": {}
        }
      ]
    },
    {
      "cell_type": "code",
      "source": [
        "pred_digits_test = np.argmax(model.predict(x_test),axis=1)\n",
        "image_id_test = []\n",
        "\n",
        "for i in range (len(pred_digits_test)):\n",
        "    image_id_test.append(i+1)\n",
        "\n",
        "d = {'ImageId':image_id_test,'Label':pred_digits_test}\n",
        "answer = pd.DataFrame(d)\n",
        "\n",
        "answer.to_csv('answer.csv',index=False)"
      ],
      "metadata": {
        "colab": {
          "base_uri": "https://localhost:8080/"
        },
        "id": "7QCSynwAq3xv",
        "outputId": "df63a895-3f3f-4ca9-c1d3-891970d28324"
      },
      "execution_count": 13,
      "outputs": [
        {
          "output_type": "stream",
          "name": "stdout",
          "text": [
            "132/132 [==============================] - 5s 33ms/step\n"
          ]
        }
      ]
    }
  ]
}
